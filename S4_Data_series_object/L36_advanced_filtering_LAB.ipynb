{
 "cells": [
  {
   "cell_type": "code",
   "execution_count": 1,
   "id": "a271ee30",
   "metadata": {},
   "outputs": [],
   "source": [
    "import pandas as pd\n",
    "import numpy as np\n",
    "import matplotlib.pyplot as plt\n",
    "import math"
   ]
  },
  {
   "cell_type": "code",
   "execution_count": 2,
   "id": "b6b4b802",
   "metadata": {},
   "outputs": [],
   "source": [
    "namesList = ['Albania','Austria','Belarus',\n",
    "'Belgium','Bulgaria','Croatia','Cyprus','Czech Republic','Denmark','Estonia',\n",
    "'Finland','France','Germany','Greece','Hungary','Iceland','Ireland','Italy',\n",
    "'Latvia','Lithuania','Luxembourg','Macedonia','Malta','Montenegro','Netherlands',\n",
    "'Norway','Poland','Portugal','Romania','Russia','Serbia','Slovenia','Spain',\n",
    "'Sweden','Switzerland','United Kingdom','Turkey','Ukraine']\n",
    "\n",
    "energy2010List = [1947,8347,3564,8369,4560,3814,4623,6348,6328,6506,16483,7736,7264,5318,3876,\n",
    "51440,5911,5494,3230,3471,16830,3521,4171,5420,7010,24891,3797,4959,2551,\n",
    "6410,4359,6521,5707,14934,8175,2498,3550,5701]\n",
    "\n",
    "energy2012List = [2118,8507,3698,7987,4762,3819,4057,6305,6039,6689,15687,7344,7270,5511,3919,\n",
    "53203,5665,5398,3588,3608,14696,3626,4761,5416,6871,23658,3899,4736,2604,\n",
    "6617,4387,6778,5573,14290,7886,2794,3641,5452]"
   ]
  },
  {
   "cell_type": "code",
   "execution_count": 3,
   "id": "20de90fc",
   "metadata": {
    "collapsed": true
   },
   "outputs": [
    {
     "data": {
      "text/plain": [
       "0            Albania\n",
       "1            Austria\n",
       "2            Belarus\n",
       "3            Belgium\n",
       "4           Bulgaria\n",
       "5            Croatia\n",
       "6             Cyprus\n",
       "7     Czech Republic\n",
       "8            Denmark\n",
       "9            Estonia\n",
       "10           Finland\n",
       "11            France\n",
       "12           Germany\n",
       "13            Greece\n",
       "14           Hungary\n",
       "15           Iceland\n",
       "16           Ireland\n",
       "17             Italy\n",
       "18            Latvia\n",
       "19         Lithuania\n",
       "20        Luxembourg\n",
       "21         Macedonia\n",
       "22             Malta\n",
       "23        Montenegro\n",
       "24       Netherlands\n",
       "25            Norway\n",
       "26            Poland\n",
       "27          Portugal\n",
       "28           Romania\n",
       "29            Russia\n",
       "30            Serbia\n",
       "31          Slovenia\n",
       "32             Spain\n",
       "33            Sweden\n",
       "34       Switzerland\n",
       "35    United Kingdom\n",
       "36            Turkey\n",
       "37           Ukraine\n",
       "dtype: object"
      ]
     },
     "execution_count": 3,
     "metadata": {},
     "output_type": "execute_result"
    }
   ],
   "source": [
    "namesSeries = pd.Series(namesList)\n",
    "namesSeries"
   ]
  },
  {
   "cell_type": "code",
   "execution_count": 4,
   "id": "ea0218ef",
   "metadata": {
    "collapsed": true
   },
   "outputs": [
    {
     "data": {
      "text/plain": [
       "0      1947\n",
       "1      8347\n",
       "2      3564\n",
       "3      8369\n",
       "4      4560\n",
       "5      3814\n",
       "6      4623\n",
       "7      6348\n",
       "8      6328\n",
       "9      6506\n",
       "10    16483\n",
       "11     7736\n",
       "12     7264\n",
       "13     5318\n",
       "14     3876\n",
       "15    51440\n",
       "16     5911\n",
       "17     5494\n",
       "18     3230\n",
       "19     3471\n",
       "20    16830\n",
       "21     3521\n",
       "22     4171\n",
       "23     5420\n",
       "24     7010\n",
       "25    24891\n",
       "26     3797\n",
       "27     4959\n",
       "28     2551\n",
       "29     6410\n",
       "30     4359\n",
       "31     6521\n",
       "32     5707\n",
       "33    14934\n",
       "34     8175\n",
       "35     2498\n",
       "36     3550\n",
       "37     5701\n",
       "dtype: int64"
      ]
     },
     "execution_count": 4,
     "metadata": {},
     "output_type": "execute_result"
    }
   ],
   "source": [
    "energy2010Series = pd.Series(energy2010List)\n",
    "energy2010Series"
   ]
  },
  {
   "cell_type": "code",
   "execution_count": 5,
   "id": "6bf8e5db",
   "metadata": {
    "collapsed": true
   },
   "outputs": [
    {
     "data": {
      "text/plain": [
       "0      2118\n",
       "1      8507\n",
       "2      3698\n",
       "3      7987\n",
       "4      4762\n",
       "5      3819\n",
       "6      4057\n",
       "7      6305\n",
       "8      6039\n",
       "9      6689\n",
       "10    15687\n",
       "11     7344\n",
       "12     7270\n",
       "13     5511\n",
       "14     3919\n",
       "15    53203\n",
       "16     5665\n",
       "17     5398\n",
       "18     3588\n",
       "19     3608\n",
       "20    14696\n",
       "21     3626\n",
       "22     4761\n",
       "23     5416\n",
       "24     6871\n",
       "25    23658\n",
       "26     3899\n",
       "27     4736\n",
       "28     2604\n",
       "29     6617\n",
       "30     4387\n",
       "31     6778\n",
       "32     5573\n",
       "33    14290\n",
       "34     7886\n",
       "35     2794\n",
       "36     3641\n",
       "37     5452\n",
       "dtype: int64"
      ]
     },
     "execution_count": 5,
     "metadata": {},
     "output_type": "execute_result"
    }
   ],
   "source": [
    "energy2012Series = pd.Series(energy2012List)\n",
    "energy2012Series"
   ]
  },
  {
   "cell_type": "code",
   "execution_count": 8,
   "id": "324d111e",
   "metadata": {},
   "outputs": [
    {
     "data": {
      "text/plain": [
       "7779.8421052631575"
      ]
     },
     "execution_count": 8,
     "metadata": {},
     "output_type": "execute_result"
    }
   ],
   "source": [
    "mean2010 = energy2010Series.mean()\n",
    "mean2010"
   ]
  },
  {
   "cell_type": "code",
   "execution_count": 10,
   "id": "3d0d0297",
   "metadata": {},
   "outputs": [
    {
     "data": {
      "text/plain": [
       "7706.815789473684"
      ]
     },
     "execution_count": 10,
     "metadata": {},
     "output_type": "execute_result"
    }
   ],
   "source": [
    "mean2012 = energy2012Series.mean()\n",
    "mean2012"
   ]
  },
  {
   "cell_type": "code",
   "execution_count": 26,
   "id": "0b82da7d",
   "metadata": {
    "collapsed": true
   },
   "outputs": [
    {
     "data": {
      "text/plain": [
       "1      8347.0\n",
       "3      8369.0\n",
       "10    16483.0\n",
       "15    51440.0\n",
       "20    16830.0\n",
       "25    24891.0\n",
       "33    14934.0\n",
       "34     8175.0\n",
       "dtype: float64"
      ]
     },
     "execution_count": 26,
     "metadata": {},
     "output_type": "execute_result"
    }
   ],
   "source": [
    "aboveMean2010Condition = energy2010Series > mean2010\n",
    "filterAboveMean2010 =  energy2010Series.where(aboveMean2010Condition).dropna()\n",
    "filterAboveMean2010"
   ]
  },
  {
   "cell_type": "code",
   "execution_count": 27,
   "id": "8d5d3006",
   "metadata": {
    "collapsed": true
   },
   "outputs": [
    {
     "data": {
      "text/plain": [
       "1      8507.0\n",
       "3      7987.0\n",
       "10    15687.0\n",
       "15    53203.0\n",
       "20    14696.0\n",
       "25    23658.0\n",
       "33    14290.0\n",
       "34     7886.0\n",
       "dtype: float64"
      ]
     },
     "execution_count": 27,
     "metadata": {},
     "output_type": "execute_result"
    }
   ],
   "source": [
    "aboveMean2012Condition = energy2012Series > mean2012\n",
    "filterAboveMean2012 = energy2012Series.where(aboveMean2012Condition).dropna()\n",
    "filterAboveMean2012"
   ]
  },
  {
   "cell_type": "code",
   "execution_count": 70,
   "id": "7aef726b",
   "metadata": {},
   "outputs": [
    {
     "data": {
      "text/plain": [
       "[1, 3, 10, 15, 20, 25, 33, 34]"
      ]
     },
     "execution_count": 70,
     "metadata": {},
     "output_type": "execute_result"
    }
   ],
   "source": [
    "indexesAbove2010 = filterAboveMean2010.keys().to_list()\n",
    "indexesAbove2010"
   ]
  },
  {
   "cell_type": "code",
   "execution_count": 71,
   "id": "63d9bd07",
   "metadata": {},
   "outputs": [
    {
     "data": {
      "text/plain": [
       "1         Austria\n",
       "3         Belgium\n",
       "10        Finland\n",
       "15        Iceland\n",
       "20     Luxembourg\n",
       "25         Norway\n",
       "33         Sweden\n",
       "34    Switzerland\n",
       "dtype: object"
      ]
     },
     "execution_count": 71,
     "metadata": {},
     "output_type": "execute_result"
    }
   ],
   "source": [
    "countriesAbove2010 = namesSeries.filter(items=indexes2010)\n",
    "countriesAbove2010"
   ]
  },
  {
   "cell_type": "code",
   "execution_count": 72,
   "id": "535c8fd1",
   "metadata": {},
   "outputs": [
    {
     "data": {
      "text/plain": [
       "[1, 3, 10, 15, 20, 25, 33, 34]"
      ]
     },
     "execution_count": 72,
     "metadata": {},
     "output_type": "execute_result"
    }
   ],
   "source": [
    "indexesAbove2012 = filterAboveMean2012.keys().to_list()\n",
    "indexesAbove2012"
   ]
  },
  {
   "cell_type": "code",
   "execution_count": 73,
   "id": "029c9d4a",
   "metadata": {},
   "outputs": [
    {
     "data": {
      "text/plain": [
       "1         Austria\n",
       "3         Belgium\n",
       "10        Finland\n",
       "15        Iceland\n",
       "20     Luxembourg\n",
       "25         Norway\n",
       "33         Sweden\n",
       "34    Switzerland\n",
       "dtype: object"
      ]
     },
     "execution_count": 73,
     "metadata": {},
     "output_type": "execute_result"
    }
   ],
   "source": [
    "countriesAbove2012 = namesSeries.filter(items=indexesAbove2012)\n",
    "countriesAbove2012"
   ]
  },
  {
   "cell_type": "code",
   "execution_count": 66,
   "id": "1cda5d80",
   "metadata": {
    "collapsed": true
   },
   "outputs": [
    {
     "data": {
      "text/plain": [
       "0     1947.0\n",
       "2     3564.0\n",
       "4     4560.0\n",
       "5     3814.0\n",
       "6     4623.0\n",
       "7     6348.0\n",
       "8     6328.0\n",
       "9     6506.0\n",
       "11    7736.0\n",
       "12    7264.0\n",
       "13    5318.0\n",
       "14    3876.0\n",
       "16    5911.0\n",
       "17    5494.0\n",
       "18    3230.0\n",
       "19    3471.0\n",
       "21    3521.0\n",
       "22    4171.0\n",
       "23    5420.0\n",
       "24    7010.0\n",
       "26    3797.0\n",
       "27    4959.0\n",
       "28    2551.0\n",
       "29    6410.0\n",
       "30    4359.0\n",
       "31    6521.0\n",
       "32    5707.0\n",
       "35    2498.0\n",
       "36    3550.0\n",
       "37    5701.0\n",
       "dtype: float64"
      ]
     },
     "execution_count": 66,
     "metadata": {},
     "output_type": "execute_result"
    }
   ],
   "source": [
    "belowMean2010Condition = - aboveMean2010Condition\n",
    "filterBelowMean2010 =  energy2010Series.where(belowMean2010Condition).dropna()\n",
    "filterBelowMean2010"
   ]
  },
  {
   "cell_type": "code",
   "execution_count": 68,
   "id": "46f17b03",
   "metadata": {
    "collapsed": true
   },
   "outputs": [
    {
     "data": {
      "text/plain": [
       "0     2118.0\n",
       "2     3698.0\n",
       "4     4762.0\n",
       "5     3819.0\n",
       "6     4057.0\n",
       "7     6305.0\n",
       "8     6039.0\n",
       "9     6689.0\n",
       "11    7344.0\n",
       "12    7270.0\n",
       "13    5511.0\n",
       "14    3919.0\n",
       "16    5665.0\n",
       "17    5398.0\n",
       "18    3588.0\n",
       "19    3608.0\n",
       "21    3626.0\n",
       "22    4761.0\n",
       "23    5416.0\n",
       "24    6871.0\n",
       "26    3899.0\n",
       "27    4736.0\n",
       "28    2604.0\n",
       "29    6617.0\n",
       "30    4387.0\n",
       "31    6778.0\n",
       "32    5573.0\n",
       "35    2794.0\n",
       "36    3641.0\n",
       "37    5452.0\n",
       "dtype: float64"
      ]
     },
     "execution_count": 68,
     "metadata": {},
     "output_type": "execute_result"
    }
   ],
   "source": [
    "belowMean2012Condition = - aboveMean2012Condition\n",
    "filterBelowMean2012 =  energy2012Series.where(belowMean2012Condition).dropna()\n",
    "filterBelowMean2012"
   ]
  },
  {
   "cell_type": "code",
   "execution_count": 69,
   "id": "f4d2116b",
   "metadata": {
    "collapsed": true
   },
   "outputs": [
    {
     "data": {
      "text/plain": [
       "[0,\n",
       " 2,\n",
       " 4,\n",
       " 5,\n",
       " 6,\n",
       " 7,\n",
       " 8,\n",
       " 9,\n",
       " 11,\n",
       " 12,\n",
       " 13,\n",
       " 14,\n",
       " 16,\n",
       " 17,\n",
       " 18,\n",
       " 19,\n",
       " 21,\n",
       " 22,\n",
       " 23,\n",
       " 24,\n",
       " 26,\n",
       " 27,\n",
       " 28,\n",
       " 29,\n",
       " 30,\n",
       " 31,\n",
       " 32,\n",
       " 35,\n",
       " 36,\n",
       " 37]"
      ]
     },
     "execution_count": 69,
     "metadata": {},
     "output_type": "execute_result"
    }
   ],
   "source": [
    "indexesBelow2010 = filterBelowMean2010.keys().to_list()\n",
    "indexesBelow2010"
   ]
  },
  {
   "cell_type": "code",
   "execution_count": 75,
   "id": "eeff419d",
   "metadata": {
    "collapsed": true
   },
   "outputs": [
    {
     "data": {
      "text/plain": [
       "[0,\n",
       " 2,\n",
       " 4,\n",
       " 5,\n",
       " 6,\n",
       " 7,\n",
       " 8,\n",
       " 9,\n",
       " 11,\n",
       " 12,\n",
       " 13,\n",
       " 14,\n",
       " 16,\n",
       " 17,\n",
       " 18,\n",
       " 19,\n",
       " 21,\n",
       " 22,\n",
       " 23,\n",
       " 24,\n",
       " 26,\n",
       " 27,\n",
       " 28,\n",
       " 29,\n",
       " 30,\n",
       " 31,\n",
       " 32,\n",
       " 35,\n",
       " 36,\n",
       " 37]"
      ]
     },
     "execution_count": 75,
     "metadata": {},
     "output_type": "execute_result"
    }
   ],
   "source": [
    "indexesBelow2012 = filterBelowMean2012.keys().to_list()\n",
    "indexesBelow2012"
   ]
  },
  {
   "cell_type": "code",
   "execution_count": 81,
   "id": "724c4cf3",
   "metadata": {},
   "outputs": [
    {
     "data": {
      "text/plain": [
       "0            Albania\n",
       "2            Belarus\n",
       "4           Bulgaria\n",
       "5            Croatia\n",
       "6             Cyprus\n",
       "7     Czech Republic\n",
       "8            Denmark\n",
       "9            Estonia\n",
       "11            France\n",
       "12           Germany\n",
       "13            Greece\n",
       "14           Hungary\n",
       "16           Ireland\n",
       "17             Italy\n",
       "18            Latvia\n",
       "19         Lithuania\n",
       "21         Macedonia\n",
       "22             Malta\n",
       "23        Montenegro\n",
       "24       Netherlands\n",
       "26            Poland\n",
       "27          Portugal\n",
       "28           Romania\n",
       "29            Russia\n",
       "30            Serbia\n",
       "31          Slovenia\n",
       "32             Spain\n",
       "35    United Kingdom\n",
       "36            Turkey\n",
       "37           Ukraine\n",
       "dtype: object"
      ]
     },
     "execution_count": 81,
     "metadata": {},
     "output_type": "execute_result"
    }
   ],
   "source": [
    "countriesBelow2010 = namesSeries.filter(items=indexesBelow2010)\n",
    "# countriesBelow2010\n",
    "countriesBelow2012 = namesSeries.filter(items=indexesBelow2012)\n",
    "\n",
    "countriesBelow2012\n",
    "\n",
    "# countriesBelow2012 == countriesBelow2010"
   ]
  },
  {
   "cell_type": "markdown",
   "id": "e769e730",
   "metadata": {},
   "source": [
    "Conclusions:\n",
    "- same countries are above mean usage in 2012 and 2010\n",
    "- countries above mean usage are mostly northern or mountain countries"
   ]
  },
  {
   "cell_type": "code",
   "execution_count": null,
   "id": "3623f23b",
   "metadata": {},
   "outputs": [],
   "source": []
  }
 ],
 "metadata": {
  "kernelspec": {
   "display_name": "Python 3 (ipykernel)",
   "language": "python",
   "name": "python3"
  },
  "language_info": {
   "codemirror_mode": {
    "name": "ipython",
    "version": 3
   },
   "file_extension": ".py",
   "mimetype": "text/x-python",
   "name": "python",
   "nbconvert_exporter": "python",
   "pygments_lexer": "ipython3",
   "version": "3.11.7"
  }
 },
 "nbformat": 4,
 "nbformat_minor": 5
}
