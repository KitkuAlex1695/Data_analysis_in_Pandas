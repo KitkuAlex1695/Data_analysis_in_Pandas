{
 "cells": [
  {
   "cell_type": "code",
   "execution_count": 2,
   "id": "57b8d7de",
   "metadata": {},
   "outputs": [],
   "source": [
    "import pandas as pd\n",
    "import numpy as np\n",
    "import matplotlib.pyplot as plt\n",
    "import math\n",
    "\n",
    "path = '../data/StackOverflowDeveloperSurvey.csv'\n",
    "columns = ['CompanySize']\n",
    "\n",
    "surveys = pd.read_csv(path, usecols=columns).squeeze()"
   ]
  },
  {
   "cell_type": "code",
   "execution_count": 9,
   "id": "8851fb86",
   "metadata": {},
   "outputs": [
    {
     "data": {
      "text/plain": [
       "'10,000 or more employees'"
      ]
     },
     "execution_count": 9,
     "metadata": {},
     "output_type": "execute_result"
    }
   ],
   "source": [
    "surveys[3]"
   ]
  },
  {
   "cell_type": "code",
   "execution_count": 11,
   "id": "99055623",
   "metadata": {},
   "outputs": [
    {
     "data": {
      "text/plain": [
       "1          20 to 99 employees\n",
       "2    10,000 or more employees\n",
       "3    10,000 or more employees\n",
       "4          10 to 19 employees\n",
       "5                         NaN\n",
       "6          20 to 99 employees\n",
       "7     Fewer than 10 employees\n",
       "8    5,000 to 9,999 employees\n",
       "9                         NaN\n",
       "Name: CompanySize, dtype: object"
      ]
     },
     "execution_count": 11,
     "metadata": {},
     "output_type": "execute_result"
    }
   ],
   "source": [
    "surveys[1:10]"
   ]
  },
  {
   "cell_type": "code",
   "execution_count": 10,
   "id": "38369f18",
   "metadata": {},
   "outputs": [
    {
     "data": {
      "text/plain": [
       "'20 to 99 employees'"
      ]
     },
     "execution_count": 10,
     "metadata": {},
     "output_type": "execute_result"
    }
   ],
   "source": [
    "surveys[12345]"
   ]
  },
  {
   "cell_type": "code",
   "execution_count": 12,
   "id": "889972a0",
   "metadata": {},
   "outputs": [
    {
     "data": {
      "text/plain": [
       "12341                         NaN\n",
       "12342    1,000 to 4,999 employees\n",
       "12343    10,000 or more employees\n",
       "12344        100 to 499 employees\n",
       "12345          20 to 99 employees\n",
       "12346                         NaN\n",
       "12347     Fewer than 10 employees\n",
       "12348          20 to 99 employees\n",
       "12349          20 to 99 employees\n",
       "12350          20 to 99 employees\n",
       "Name: CompanySize, dtype: object"
      ]
     },
     "execution_count": 12,
     "metadata": {},
     "output_type": "execute_result"
    }
   ],
   "source": [
    "surveys[12341:12351]"
   ]
  },
  {
   "cell_type": "code",
   "execution_count": 13,
   "id": "51bfba39",
   "metadata": {},
   "outputs": [],
   "source": [
    "surveys.sort_index(ascending=False, inplace=True)"
   ]
  },
  {
   "cell_type": "code",
   "execution_count": 14,
   "id": "36ee254e",
   "metadata": {},
   "outputs": [
    {
     "data": {
      "text/plain": [
       "51391    10,000 or more employees\n",
       "51390     Fewer than 10 employees\n",
       "51389          10 to 19 employees\n",
       "51388        100 to 499 employees\n",
       "51387        100 to 499 employees\n",
       "                   ...           \n",
       "4              10 to 19 employees\n",
       "3        10,000 or more employees\n",
       "2        10,000 or more employees\n",
       "1              20 to 99 employees\n",
       "0                             NaN\n",
       "Name: CompanySize, Length: 51392, dtype: object"
      ]
     },
     "execution_count": 14,
     "metadata": {},
     "output_type": "execute_result"
    }
   ],
   "source": [
    "surveys"
   ]
  },
  {
   "cell_type": "code",
   "execution_count": 15,
   "id": "a614e5bc",
   "metadata": {},
   "outputs": [
    {
     "data": {
      "text/plain": [
       "'10,000 or more employees'"
      ]
     },
     "execution_count": 15,
     "metadata": {},
     "output_type": "execute_result"
    }
   ],
   "source": [
    "surveys[3]"
   ]
  },
  {
   "cell_type": "code",
   "execution_count": 17,
   "id": "65a1b132",
   "metadata": {},
   "outputs": [
    {
     "data": {
      "text/plain": [
       "51390     Fewer than 10 employees\n",
       "51389          10 to 19 employees\n",
       "51388        100 to 499 employees\n",
       "51387        100 to 499 employees\n",
       "51386        100 to 499 employees\n",
       "51385    1,000 to 4,999 employees\n",
       "51384          20 to 99 employees\n",
       "51383                         NaN\n",
       "51382        100 to 499 employees\n",
       "Name: CompanySize, dtype: object"
      ]
     },
     "execution_count": 17,
     "metadata": {},
     "output_type": "execute_result"
    }
   ],
   "source": [
    "surveys[1:10]"
   ]
  },
  {
   "cell_type": "code",
   "execution_count": 18,
   "id": "5b0b1daf",
   "metadata": {},
   "outputs": [
    {
     "data": {
      "text/plain": [
       "'20 to 99 employees'"
      ]
     },
     "execution_count": 18,
     "metadata": {},
     "output_type": "execute_result"
    }
   ],
   "source": [
    "surveys[12345]"
   ]
  },
  {
   "cell_type": "code",
   "execution_count": 19,
   "id": "e3be9556",
   "metadata": {},
   "outputs": [
    {
     "data": {
      "text/plain": [
       "39050          10 to 19 employees\n",
       "39049                         NaN\n",
       "39048                         NaN\n",
       "39047        100 to 499 employees\n",
       "39046    1,000 to 4,999 employees\n",
       "39045          20 to 99 employees\n",
       "39044     Fewer than 10 employees\n",
       "39043                         NaN\n",
       "39042     Fewer than 10 employees\n",
       "39041          10 to 19 employees\n",
       "Name: CompanySize, dtype: object"
      ]
     },
     "execution_count": 19,
     "metadata": {},
     "output_type": "execute_result"
    }
   ],
   "source": [
    "surveys[12341:12351]"
   ]
  },
  {
   "cell_type": "code",
   "execution_count": 20,
   "id": "f9767cd6",
   "metadata": {},
   "outputs": [],
   "source": [
    "surveys.reset_index(drop=True, inplace=True)"
   ]
  },
  {
   "cell_type": "code",
   "execution_count": 21,
   "id": "59fb70e1",
   "metadata": {},
   "outputs": [
    {
     "data": {
      "text/plain": [
       "'100 to 499 employees'"
      ]
     },
     "execution_count": 21,
     "metadata": {},
     "output_type": "execute_result"
    }
   ],
   "source": [
    "surveys[3]"
   ]
  },
  {
   "cell_type": "code",
   "execution_count": 22,
   "id": "59ffb598",
   "metadata": {},
   "outputs": [
    {
     "data": {
      "text/plain": [
       "1     Fewer than 10 employees\n",
       "2          10 to 19 employees\n",
       "3        100 to 499 employees\n",
       "4        100 to 499 employees\n",
       "5        100 to 499 employees\n",
       "6    1,000 to 4,999 employees\n",
       "7          20 to 99 employees\n",
       "8                         NaN\n",
       "9        100 to 499 employees\n",
       "Name: CompanySize, dtype: object"
      ]
     },
     "execution_count": 22,
     "metadata": {},
     "output_type": "execute_result"
    }
   ],
   "source": [
    "surveys[1:10]"
   ]
  },
  {
   "cell_type": "code",
   "execution_count": 23,
   "id": "a897175e",
   "metadata": {},
   "outputs": [
    {
     "data": {
      "text/plain": [
       "'1,000 to 4,999 employees'"
      ]
     },
     "execution_count": 23,
     "metadata": {},
     "output_type": "execute_result"
    }
   ],
   "source": [
    "surveys[12345]"
   ]
  },
  {
   "cell_type": "code",
   "execution_count": 24,
   "id": "346551e6",
   "metadata": {},
   "outputs": [
    {
     "data": {
      "text/plain": [
       "12341          10 to 19 employees\n",
       "12342                         NaN\n",
       "12343                         NaN\n",
       "12344        100 to 499 employees\n",
       "12345    1,000 to 4,999 employees\n",
       "12346          20 to 99 employees\n",
       "12347     Fewer than 10 employees\n",
       "12348                         NaN\n",
       "12349     Fewer than 10 employees\n",
       "12350          10 to 19 employees\n",
       "Name: CompanySize, dtype: object"
      ]
     },
     "execution_count": 24,
     "metadata": {},
     "output_type": "execute_result"
    }
   ],
   "source": [
    "surveys[12341:12351]"
   ]
  }
 ],
 "metadata": {
  "kernelspec": {
   "display_name": "Python 3 (ipykernel)",
   "language": "python",
   "name": "python3"
  },
  "language_info": {
   "codemirror_mode": {
    "name": "ipython",
    "version": 3
   },
   "file_extension": ".py",
   "mimetype": "text/x-python",
   "name": "python",
   "nbconvert_exporter": "python",
   "pygments_lexer": "ipython3",
   "version": "3.11.7"
  }
 },
 "nbformat": 4,
 "nbformat_minor": 5
}
