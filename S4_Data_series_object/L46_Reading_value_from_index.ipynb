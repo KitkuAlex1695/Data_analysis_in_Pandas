{
 "cells": [
  {
   "cell_type": "code",
   "execution_count": 1,
   "id": "57b8d7de",
   "metadata": {},
   "outputs": [],
   "source": [
    "import pandas as pd\n",
    "import numpy as np\n",
    "import matplotlib.pyplot as plt\n",
    "import math\n",
    "\n",
    "path = '../data/pokemon.csv'\n",
    "columns = ['Name']\n",
    "\n",
    "pok = pd.read_csv(path, usecols=columns).squeeze()"
   ]
  },
  {
   "cell_type": "code",
   "execution_count": 2,
   "id": "2aaa9559",
   "metadata": {},
   "outputs": [
    {
     "data": {
      "text/plain": [
       "0                Bulbasaur\n",
       "1                  Ivysaur\n",
       "2                 Venusaur\n",
       "3    VenusaurMega Venusaur\n",
       "4               Charmander\n",
       "Name: Name, dtype: object"
      ]
     },
     "execution_count": 2,
     "metadata": {},
     "output_type": "execute_result"
    }
   ],
   "source": [
    "pok.head()"
   ]
  },
  {
   "cell_type": "code",
   "execution_count": 3,
   "id": "0ebc2321",
   "metadata": {},
   "outputs": [
    {
     "data": {
      "text/plain": [
       "'Bulbasaur'"
      ]
     },
     "execution_count": 3,
     "metadata": {},
     "output_type": "execute_result"
    }
   ],
   "source": [
    "pok[0]"
   ]
  },
  {
   "cell_type": "code",
   "execution_count": 4,
   "id": "3a85b0fb",
   "metadata": {},
   "outputs": [
    {
     "data": {
      "text/plain": [
       "'Machoke'"
      ]
     },
     "execution_count": 4,
     "metadata": {},
     "output_type": "execute_result"
    }
   ],
   "source": [
    "pok[73]"
   ]
  },
  {
   "cell_type": "markdown",
   "id": "7e29453c",
   "metadata": {},
   "source": [
    "#  Need to use double list:"
   ]
  },
  {
   "cell_type": "code",
   "execution_count": 5,
   "id": "b4e7c315",
   "metadata": {},
   "outputs": [
    {
     "data": {
      "text/plain": [
       "64    Arcanine\n",
       "73     Machoke\n",
       "Name: Name, dtype: object"
      ]
     },
     "execution_count": 5,
     "metadata": {},
     "output_type": "execute_result"
    }
   ],
   "source": [
    "# pok[64,73]\n",
    "pok[[64,73]]"
   ]
  },
  {
   "cell_type": "code",
   "execution_count": 6,
   "id": "3c2a6d5a",
   "metadata": {},
   "outputs": [
    {
     "data": {
      "text/plain": [
       "2                 Venusaur\n",
       "3    VenusaurMega Venusaur\n",
       "4               Charmander\n",
       "5               Charmeleon\n",
       "6                Charizard\n",
       "Name: Name, dtype: object"
      ]
     },
     "execution_count": 6,
     "metadata": {},
     "output_type": "execute_result"
    }
   ],
   "source": [
    "pok[2:7]"
   ]
  },
  {
   "cell_type": "code",
   "execution_count": 7,
   "id": "245fb9a5",
   "metadata": {},
   "outputs": [
    {
     "data": {
      "text/plain": [
       "795                Diancie\n",
       "796    DiancieMega Diancie\n",
       "797    HoopaHoopa Confined\n",
       "798     HoopaHoopa Unbound\n",
       "799              Volcanion\n",
       "Name: Name, dtype: object"
      ]
     },
     "execution_count": 7,
     "metadata": {},
     "output_type": "execute_result"
    }
   ],
   "source": [
    "pok[795:]"
   ]
  },
  {
   "cell_type": "code",
   "execution_count": 8,
   "id": "e99d6012",
   "metadata": {},
   "outputs": [
    {
     "data": {
      "text/plain": [
       "0                Bulbasaur\n",
       "1                  Ivysaur\n",
       "2                 Venusaur\n",
       "3    VenusaurMega Venusaur\n",
       "4               Charmander\n",
       "Name: Name, dtype: object"
      ]
     },
     "execution_count": 8,
     "metadata": {},
     "output_type": "execute_result"
    }
   ],
   "source": [
    "pok[:5]"
   ]
  },
  {
   "cell_type": "code",
   "execution_count": 11,
   "id": "832d7e65",
   "metadata": {},
   "outputs": [
    {
     "data": {
      "text/plain": [
       "798    HoopaHoopa Unbound\n",
       "799             Volcanion\n",
       "Name: Name, dtype: object"
      ]
     },
     "execution_count": 11,
     "metadata": {},
     "output_type": "execute_result"
    }
   ],
   "source": [
    "pok[-2:]"
   ]
  }
 ],
 "metadata": {
  "kernelspec": {
   "display_name": "Python 3 (ipykernel)",
   "language": "python",
   "name": "python3"
  },
  "language_info": {
   "codemirror_mode": {
    "name": "ipython",
    "version": 3
   },
   "file_extension": ".py",
   "mimetype": "text/x-python",
   "name": "python",
   "nbconvert_exporter": "python",
   "pygments_lexer": "ipython3",
   "version": "3.11.7"
  }
 },
 "nbformat": 4,
 "nbformat_minor": 5
}
