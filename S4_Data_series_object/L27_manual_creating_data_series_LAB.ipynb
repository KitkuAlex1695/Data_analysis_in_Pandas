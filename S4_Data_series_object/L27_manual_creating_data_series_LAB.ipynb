{
 "cells": [
  {
   "cell_type": "code",
   "execution_count": 1,
   "id": "9a15511b",
   "metadata": {},
   "outputs": [],
   "source": [
    "import pandas as pd\n",
    "import numpy as np\n",
    "import matplotlib.pyplot as plt\n",
    "import math"
   ]
  },
  {
   "cell_type": "code",
   "execution_count": 4,
   "id": "f5a7ffac",
   "metadata": {},
   "outputs": [],
   "source": [
    "weekDays = ('sunday', 'monday', 'tuesday', 'wednesday', 'thursday', 'friday', 'saturday')"
   ]
  },
  {
   "cell_type": "code",
   "execution_count": 5,
   "id": "72813afb",
   "metadata": {},
   "outputs": [
    {
     "data": {
      "text/plain": [
       "0       sunday\n",
       "1       monday\n",
       "2      tuesday\n",
       "3    wednesday\n",
       "4     thursday\n",
       "5       friday\n",
       "6     saturday\n",
       "dtype: object"
      ]
     },
     "execution_count": 5,
     "metadata": {},
     "output_type": "execute_result"
    }
   ],
   "source": [
    "weekdaysSeries = pd.Series(weekDays)\n",
    "weekdaysSeries"
   ]
  },
  {
   "cell_type": "code",
   "execution_count": 6,
   "id": "ec8e07c7",
   "metadata": {},
   "outputs": [],
   "source": [
    "freeDays = (True, False, False, False, False, False, True)"
   ]
  },
  {
   "cell_type": "code",
   "execution_count": 8,
   "id": "30feba65",
   "metadata": {},
   "outputs": [
    {
     "data": {
      "text/plain": [
       "0     True\n",
       "1    False\n",
       "2    False\n",
       "3    False\n",
       "4    False\n",
       "5    False\n",
       "6     True\n",
       "dtype: bool"
      ]
     },
     "execution_count": 8,
     "metadata": {},
     "output_type": "execute_result"
    }
   ],
   "source": [
    "freeDaysSeries = pd.Series(freeDays)\n",
    "freeDaysSeries"
   ]
  },
  {
   "cell_type": "code",
   "execution_count": 9,
   "id": "17fad733",
   "metadata": {},
   "outputs": [],
   "source": [
    "holidays = {\n",
    "    'New Year' : '2024-01-01',\n",
    "    'Christmas' : '2024-12-25',\n",
    "    'Easter' : '2024-03-30'\n",
    "}"
   ]
  },
  {
   "cell_type": "code",
   "execution_count": 10,
   "id": "779889af",
   "metadata": {},
   "outputs": [
    {
     "data": {
      "text/plain": [
       "New Year     2024-01-01\n",
       "Christmas    2024-12-25\n",
       "Easter       2024-03-30\n",
       "dtype: object"
      ]
     },
     "execution_count": 10,
     "metadata": {},
     "output_type": "execute_result"
    }
   ],
   "source": [
    "holidaysSeries = pd.Series(holidays)\n",
    "holidaysSeries"
   ]
  },
  {
   "cell_type": "code",
   "execution_count": null,
   "id": "5b500434",
   "metadata": {},
   "outputs": [],
   "source": []
  }
 ],
 "metadata": {
  "kernelspec": {
   "display_name": "Python 3 (ipykernel)",
   "language": "python",
   "name": "python3"
  },
  "language_info": {
   "codemirror_mode": {
    "name": "ipython",
    "version": 3
   },
   "file_extension": ".py",
   "mimetype": "text/x-python",
   "name": "python",
   "nbconvert_exporter": "python",
   "pygments_lexer": "ipython3",
   "version": "3.11.7"
  }
 },
 "nbformat": 4,
 "nbformat_minor": 5
}
