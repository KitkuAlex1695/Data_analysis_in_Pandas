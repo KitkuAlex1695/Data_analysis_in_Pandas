{
 "cells": [
  {
   "cell_type": "code",
   "execution_count": 2,
   "metadata": {},
   "outputs": [],
   "source": [
    "import pandas as pd\n",
    "import numpy as np\n",
    "import matplotlib.pyplot as plt\n",
    "import math"
   ]
  },
  {
   "cell_type": "code",
   "execution_count": 3,
   "metadata": {},
   "outputs": [],
   "source": [
    "path = '../data/StackOverflowDeveloperSurvey.csv'\n",
    "cols = ['Salary']"
   ]
  },
  {
   "cell_type": "code",
   "execution_count": 4,
   "metadata": {},
   "outputs": [],
   "source": [
    "survey = pd.read_csv(path, usecols=cols).squeeze().dropna()"
   ]
  },
  {
   "cell_type": "code",
   "execution_count": 5,
   "metadata": {},
   "outputs": [
    {
     "data": {
      "text/plain": [
       "2     113750.0\n",
       "14    100000.0\n",
       "17    130000.0\n",
       "18     82500.0\n",
       "22    100764.0\n",
       "Name: Salary, dtype: float64"
      ]
     },
     "execution_count": 5,
     "metadata": {},
     "output_type": "execute_result"
    }
   ],
   "source": [
    "survey.head()"
   ]
  },
  {
   "cell_type": "code",
   "execution_count": 6,
   "metadata": {},
   "outputs": [
    {
     "data": {
      "text/plain": [
       "12891"
      ]
     },
     "execution_count": 6,
     "metadata": {},
     "output_type": "execute_result"
    }
   ],
   "source": [
    "survey.count()"
   ]
  },
  {
   "cell_type": "code",
   "execution_count": 7,
   "metadata": {},
   "outputs": [
    {
     "data": {
      "text/plain": [
       "2        113750.000000\n",
       "14       100000.000000\n",
       "17       130000.000000\n",
       "18        82500.000000\n",
       "22       100764.000000\n",
       "             ...      \n",
       "51371     74193.548387\n",
       "51378    107526.881720\n",
       "51382     32258.064516\n",
       "51387     58000.000000\n",
       "51390     40000.000000\n",
       "Name: Salary, Length: 12891, dtype: float64"
      ]
     },
     "execution_count": 7,
     "metadata": {},
     "output_type": "execute_result"
    }
   ],
   "source": [
    "survey"
   ]
  },
  {
   "cell_type": "code",
   "execution_count": 8,
   "metadata": {},
   "outputs": [],
   "source": [
    "surveysIncrease = survey * 0.03"
   ]
  },
  {
   "cell_type": "code",
   "execution_count": 9,
   "metadata": {},
   "outputs": [
    {
     "data": {
      "text/plain": [
       "2     3412.50\n",
       "14    3000.00\n",
       "17    3900.00\n",
       "18    2475.00\n",
       "22    3022.92\n",
       "Name: Salary, dtype: float64"
      ]
     },
     "execution_count": 9,
     "metadata": {},
     "output_type": "execute_result"
    }
   ],
   "source": [
    "surveysIncrease.head()"
   ]
  },
  {
   "cell_type": "code",
   "execution_count": 12,
   "metadata": {},
   "outputs": [],
   "source": [
    "surveysAfterIncrease = surveysIncrease + survey"
   ]
  },
  {
   "cell_type": "code",
   "execution_count": 13,
   "metadata": {},
   "outputs": [
    {
     "data": {
      "text/plain": [
       "2     117162.50\n",
       "14    103000.00\n",
       "17    133900.00\n",
       "18     84975.00\n",
       "22    103786.92\n",
       "Name: Salary, dtype: float64"
      ]
     },
     "execution_count": 13,
     "metadata": {},
     "output_type": "execute_result"
    }
   ],
   "source": [
    "surveysAfterIncrease.head()"
   ]
  },
  {
   "cell_type": "code",
   "execution_count": 14,
   "metadata": {},
   "outputs": [],
   "source": [
    "surveysTime = pd.read_csv('../data/StackOverflowDeveloperSurvey2018.csv', usecols=['HoursOutside'], low_memory=False).squeeze().dropna()"
   ]
  },
  {
   "cell_type": "code",
   "execution_count": 15,
   "metadata": {},
   "outputs": [
    {
     "data": {
      "text/plain": [
       "HoursOutside\n",
       "1 - 2 hours             27788\n",
       "30 - 59 minutes         24002\n",
       "Less than 30 minutes    11223\n",
       "3 - 4 hours              7186\n",
       "Over 4 hours             1825\n",
       "Name: count, dtype: int64"
      ]
     },
     "execution_count": 15,
     "metadata": {},
     "output_type": "execute_result"
    }
   ],
   "source": [
    "surveysTime.value_counts()"
   ]
  },
  {
   "cell_type": "code",
   "execution_count": 21,
   "metadata": {},
   "outputs": [],
   "source": [
    "surveysTime = surveysTime.str.lower()"
   ]
  },
  {
   "cell_type": "code",
   "execution_count": 17,
   "metadata": {},
   "outputs": [
    {
     "data": {
      "text/plain": [
       "0             1 - 2 hours\n",
       "1         30 - 59 minutes\n",
       "3    less than 30 minutes\n",
       "4             1 - 2 hours\n",
       "5         30 - 59 minutes\n",
       "Name: HoursOutside, dtype: object"
      ]
     },
     "execution_count": 17,
     "metadata": {},
     "output_type": "execute_result"
    }
   ],
   "source": [
    "surveysTime.head()"
   ]
  },
  {
   "cell_type": "code",
   "execution_count": 23,
   "metadata": {},
   "outputs": [],
   "source": [
    "surveysTime = surveysTime.apply(lambda strArg: strArg.upper())"
   ]
  },
  {
   "cell_type": "code",
   "execution_count": 24,
   "metadata": {},
   "outputs": [
    {
     "data": {
      "text/plain": [
       "0             1 - 2 HOURS\n",
       "1         30 - 59 MINUTES\n",
       "3    LESS THAN 30 MINUTES\n",
       "4             1 - 2 HOURS\n",
       "5         30 - 59 MINUTES\n",
       "Name: HoursOutside, dtype: object"
      ]
     },
     "execution_count": 24,
     "metadata": {},
     "output_type": "execute_result"
    }
   ],
   "source": [
    "surveysTime.head()"
   ]
  },
  {
   "cell_type": "code",
   "execution_count": 25,
   "metadata": {},
   "outputs": [],
   "source": [
    "def ChangeDescription(text):\n",
    "    if text == 'LESS THAN 30 MINUTES':\n",
    "        return 'LESS THAN HALF HOUR'\n",
    "    else:\n",
    "        return text"
   ]
  },
  {
   "cell_type": "code",
   "execution_count": 32,
   "metadata": {},
   "outputs": [
    {
     "data": {
      "text/plain": [
       "<bound method NDFrame.head of 0                1 - 2 HOURS\n",
       "1            30 - 59 MINUTES\n",
       "3        LESS THAN HALF HOUR\n",
       "4                1 - 2 HOURS\n",
       "5            30 - 59 MINUTES\n",
       "                ...         \n",
       "93408            1 - 2 HOURS\n",
       "93416            3 - 4 HOURS\n",
       "93435            1 - 2 HOURS\n",
       "93442    LESS THAN HALF HOUR\n",
       "93462            1 - 2 HOURS\n",
       "Name: HoursOutside, Length: 72024, dtype: object>"
      ]
     },
     "execution_count": 32,
     "metadata": {},
     "output_type": "execute_result"
    }
   ],
   "source": [
    "surveysTime.apply(ChangeDescription).head"
   ]
  },
  {
   "cell_type": "code",
   "execution_count": null,
   "metadata": {},
   "outputs": [],
   "source": []
  }
 ],
 "metadata": {
  "kernelspec": {
   "display_name": "base",
   "language": "python",
   "name": "python3"
  },
  "language_info": {
   "codemirror_mode": {
    "name": "ipython",
    "version": 3
   },
   "file_extension": ".py",
   "mimetype": "text/x-python",
   "name": "python",
   "nbconvert_exporter": "python",
   "pygments_lexer": "ipython3",
   "version": "3.11.7"
  }
 },
 "nbformat": 4,
 "nbformat_minor": 2
}
