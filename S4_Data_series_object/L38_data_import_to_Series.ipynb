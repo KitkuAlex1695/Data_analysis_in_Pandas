{
 "cells": [
  {
   "cell_type": "code",
   "execution_count": 3,
   "id": "97381a89",
   "metadata": {},
   "outputs": [],
   "source": [
    "import pandas as pd\n",
    "import numpy as np\n",
    "import matplotlib.pyplot as plt\n",
    "import math"
   ]
  },
  {
   "cell_type": "markdown",
   "id": "e17f281e",
   "metadata": {},
   "source": [
    "# methods to import data starts from .read_"
   ]
  },
  {
   "cell_type": "code",
   "execution_count": 42,
   "id": "d249a882",
   "metadata": {},
   "outputs": [],
   "source": [
    "obj = pd.read_csv(\"../data/pokemon.csv\", usecols=['Name']).squeeze()\n",
    "# use ../ to go up in directory\n",
    "speed = pd.read_csv(\"../data/pokemon.csv\", usecols=['Speed']).squeeze()"
   ]
  },
  {
   "cell_type": "markdown",
   "id": "13a27fb3",
   "metadata": {},
   "source": [
    "# .usecols - indicates columns to be read, arg = list\n",
    "# .Squeeze converts Frame to Series"
   ]
  },
  {
   "cell_type": "code",
   "execution_count": 44,
   "id": "96c3dc3c",
   "metadata": {},
   "outputs": [
    {
     "data": {
      "text/plain": [
       "0       45\n",
       "1       60\n",
       "2       80\n",
       "3       80\n",
       "4       65\n",
       "      ... \n",
       "795     50\n",
       "796    110\n",
       "797     70\n",
       "798     80\n",
       "799     70\n",
       "Name: Speed, Length: 800, dtype: int64"
      ]
     },
     "execution_count": 44,
     "metadata": {},
     "output_type": "execute_result"
    }
   ],
   "source": [
    "# type(obj)\n",
    "speed"
   ]
  },
  {
   "cell_type": "markdown",
   "id": "c9fbac36",
   "metadata": {},
   "source": [
    "# Can also import from clipboard:"
   ]
  },
  {
   "cell_type": "code",
   "execution_count": 50,
   "id": "1b530692",
   "metadata": {
    "collapsed": true
   },
   "outputs": [
    {
     "data": {
      "text/plain": [
       "0                  Bulbasaur\n",
       "1                    Ivysaur\n",
       "2                   Venusaur\n",
       "3      VenusaurMega Venusaur\n",
       "4                 Charmander\n",
       "               ...          \n",
       "795                  Diancie\n",
       "796      DiancieMega Diancie\n",
       "797      HoopaHoopa Confined\n",
       "798       HoopaHoopa Unbound\n",
       "799                Volcanion\n",
       "Name: Name, Length: 800, dtype: object"
      ]
     },
     "execution_count": 50,
     "metadata": {},
     "output_type": "execute_result"
    }
   ],
   "source": [
    "dataFromClipboard = pd.read_clipboard(sep=',')\n",
    "# dataFromClipboard\n",
    "oneSeries = dataFromClipboard['Name']\n",
    "oneSeries"
   ]
  },
  {
   "cell_type": "markdown",
   "id": "eeb6ab0b",
   "metadata": {},
   "source": [
    "# head(x) and tail(x) returns only x values from begining / end of the series (default x = 5)"
   ]
  },
  {
   "cell_type": "code",
   "execution_count": 51,
   "id": "6ff0fac4",
   "metadata": {
    "collapsed": true
   },
   "outputs": [
    {
     "data": {
      "text/plain": [
       "0                Bulbasaur\n",
       "1                  Ivysaur\n",
       "2                 Venusaur\n",
       "3    VenusaurMega Venusaur\n",
       "4               Charmander\n",
       "Name: Name, dtype: object"
      ]
     },
     "execution_count": 51,
     "metadata": {},
     "output_type": "execute_result"
    }
   ],
   "source": [
    "oneSeries.head()"
   ]
  },
  {
   "cell_type": "code",
   "execution_count": 52,
   "id": "8b6977cc",
   "metadata": {
    "collapsed": true
   },
   "outputs": [
    {
     "data": {
      "text/plain": [
       "795                Diancie\n",
       "796    DiancieMega Diancie\n",
       "797    HoopaHoopa Confined\n",
       "798     HoopaHoopa Unbound\n",
       "799              Volcanion\n",
       "Name: Name, dtype: object"
      ]
     },
     "execution_count": 52,
     "metadata": {},
     "output_type": "execute_result"
    }
   ],
   "source": [
    "oneSeries.tail()"
   ]
  },
  {
   "cell_type": "code",
   "execution_count": 53,
   "id": "9eace8e9",
   "metadata": {
    "collapsed": true
   },
   "outputs": [
    {
     "data": {
      "text/plain": [
       "0    Bulbasaur\n",
       "1      Ivysaur\n",
       "2     Venusaur\n",
       "Name: Name, dtype: object"
      ]
     },
     "execution_count": 53,
     "metadata": {},
     "output_type": "execute_result"
    }
   ],
   "source": [
    "oneSeries.head(3)"
   ]
  },
  {
   "cell_type": "code",
   "execution_count": 54,
   "id": "48b18929",
   "metadata": {
    "collapsed": true
   },
   "outputs": [
    {
     "data": {
      "text/plain": [
       "790                 Noibat\n",
       "791                Noivern\n",
       "792                Xerneas\n",
       "793                Yveltal\n",
       "794       Zygarde50% Forme\n",
       "795                Diancie\n",
       "796    DiancieMega Diancie\n",
       "797    HoopaHoopa Confined\n",
       "798     HoopaHoopa Unbound\n",
       "799              Volcanion\n",
       "Name: Name, dtype: object"
      ]
     },
     "execution_count": 54,
     "metadata": {},
     "output_type": "execute_result"
    }
   ],
   "source": [
    "oneSeries.tail(10)"
   ]
  },
  {
   "cell_type": "markdown",
   "id": "8b14def6",
   "metadata": {},
   "source": [
    "# Dont screw iporting data using head() / tail() command - first example saves under obj2 only 3 rows!"
   ]
  },
  {
   "cell_type": "code",
   "execution_count": 58,
   "id": "45480bf0",
   "metadata": {
    "collapsed": true
   },
   "outputs": [
    {
     "data": {
      "text/plain": [
       "0    Bulbasaur\n",
       "1      Ivysaur\n",
       "2     Venusaur\n",
       "Name: Name, dtype: object"
      ]
     },
     "execution_count": 58,
     "metadata": {},
     "output_type": "execute_result"
    }
   ],
   "source": [
    "obj2 = pd.read_csv(\"../data/pokemon.csv\", usecols=['Name']).squeeze().head(3)\n",
    "obj2.size\n",
    "obj2 = pd.read_csv(\"../data/pokemon.csv\", usecols=['Name']).squeeze()\n",
    "obj2.head(3)"
   ]
  },
  {
   "cell_type": "code",
   "execution_count": null,
   "id": "0cf8a730",
   "metadata": {},
   "outputs": [],
   "source": []
  }
 ],
 "metadata": {
  "kernelspec": {
   "display_name": "Python 3 (ipykernel)",
   "language": "python",
   "name": "python3"
  },
  "language_info": {
   "codemirror_mode": {
    "name": "ipython",
    "version": 3
   },
   "file_extension": ".py",
   "mimetype": "text/x-python",
   "name": "python",
   "nbconvert_exporter": "python",
   "pygments_lexer": "ipython3",
   "version": "3.11.7"
  }
 },
 "nbformat": 4,
 "nbformat_minor": 5
}
