{
 "cells": [
  {
   "cell_type": "code",
   "execution_count": 1,
   "id": "aa329e44",
   "metadata": {},
   "outputs": [],
   "source": [
    "import pandas as pd\n",
    "import numpy as np\n",
    "import matplotlib.pyplot as plt\n",
    "import math"
   ]
  },
  {
   "cell_type": "code",
   "execution_count": 2,
   "id": "b6b97be4",
   "metadata": {},
   "outputs": [],
   "source": [
    "cities = ['London', 'Berlin', 'Warsaw', 'Paris']"
   ]
  },
  {
   "cell_type": "code",
   "execution_count": 3,
   "id": "4102511e",
   "metadata": {},
   "outputs": [
    {
     "data": {
      "text/plain": [
       "['London', 'Berlin', 'Warsaw', 'Paris']"
      ]
     },
     "execution_count": 3,
     "metadata": {},
     "output_type": "execute_result"
    }
   ],
   "source": [
    "cities"
   ]
  },
  {
   "cell_type": "code",
   "execution_count": 4,
   "id": "8ba31604",
   "metadata": {},
   "outputs": [
    {
     "data": {
      "text/plain": [
       "0    London\n",
       "1    Berlin\n",
       "2    Warsaw\n",
       "3     Paris\n",
       "dtype: object"
      ]
     },
     "execution_count": 4,
     "metadata": {},
     "output_type": "execute_result"
    }
   ],
   "source": [
    "pd.Series(cities)"
   ]
  },
  {
   "cell_type": "markdown",
   "id": "a4dd2138",
   "metadata": {},
   "source": [
    "Data series object takes list object as an input and makes a series from it like above. Every row has an index.\n",
    "Strings are interpreted as objects in data series object (above)"
   ]
  },
  {
   "cell_type": "code",
   "execution_count": 5,
   "id": "64838877",
   "metadata": {},
   "outputs": [],
   "source": [
    "primeNumbers = (2, 3, 5, 7, 11, 13, 17, 19)"
   ]
  },
  {
   "cell_type": "code",
   "execution_count": 6,
   "id": "8b56e7ea",
   "metadata": {},
   "outputs": [
    {
     "data": {
      "text/plain": [
       "(2, 3, 5, 7, 11, 13, 17, 19)"
      ]
     },
     "execution_count": 6,
     "metadata": {},
     "output_type": "execute_result"
    }
   ],
   "source": [
    "primeNumbers"
   ]
  },
  {
   "cell_type": "code",
   "execution_count": 7,
   "id": "17f758a8",
   "metadata": {},
   "outputs": [
    {
     "data": {
      "text/plain": [
       "0     2\n",
       "1     3\n",
       "2     5\n",
       "3     7\n",
       "4    11\n",
       "5    13\n",
       "6    17\n",
       "7    19\n",
       "dtype: int64"
      ]
     },
     "execution_count": 7,
     "metadata": {},
     "output_type": "execute_result"
    }
   ],
   "source": [
    "pd.Series(primeNumbers)"
   ]
  },
  {
   "cell_type": "markdown",
   "id": "cda1c4b8",
   "metadata": {},
   "source": [
    "numbers are int"
   ]
  },
  {
   "cell_type": "code",
   "execution_count": 8,
   "id": "e6b42750",
   "metadata": {},
   "outputs": [
    {
     "data": {
      "text/plain": [
       "0     True\n",
       "1     True\n",
       "2    False\n",
       "dtype: bool"
      ]
     },
     "execution_count": 8,
     "metadata": {},
     "output_type": "execute_result"
    }
   ],
   "source": [
    "logicalValues = (True, True, False)\n",
    "pd.Series(logicalValues)"
   ]
  },
  {
   "cell_type": "markdown",
   "id": "fae64542",
   "metadata": {},
   "source": [
    "You can make own indexes by using dictionary keys, like below:"
   ]
  },
  {
   "cell_type": "code",
   "execution_count": 9,
   "id": "78b1dfc8",
   "metadata": {},
   "outputs": [],
   "source": [
    "SpielbergFilmography = {\n",
    "    'Jaws' : 1975,\n",
    "    '1941' : 1979,\n",
    "    'Indiana Jones and the Raiders of the Lost Ark' : 1981,\n",
    "    'E.T. the Extra-Terrestrial' : 1982\n",
    "}"
   ]
  },
  {
   "cell_type": "code",
   "execution_count": 10,
   "id": "cd432c42",
   "metadata": {},
   "outputs": [
    {
     "data": {
      "text/plain": [
       "Jaws                                             1975\n",
       "1941                                             1979\n",
       "Indiana Jones and the Raiders of the Lost Ark    1981\n",
       "E.T. the Extra-Terrestrial                       1982\n",
       "dtype: int64"
      ]
     },
     "execution_count": 10,
     "metadata": {},
     "output_type": "execute_result"
    }
   ],
   "source": [
    "pd.Series(SpielbergFilmography)"
   ]
  },
  {
   "cell_type": "code",
   "execution_count": 11,
   "id": "a2432516",
   "metadata": {},
   "outputs": [],
   "source": [
    "mixedDataTypes = [1, '1', True]"
   ]
  },
  {
   "cell_type": "code",
   "execution_count": 12,
   "id": "af720f90",
   "metadata": {},
   "outputs": [
    {
     "data": {
      "text/plain": [
       "0       1\n",
       "1       1\n",
       "2    True\n",
       "dtype: object"
      ]
     },
     "execution_count": 12,
     "metadata": {},
     "output_type": "execute_result"
    }
   ],
   "source": [
    "pd.Series(mixedDataTypes)"
   ]
  },
  {
   "cell_type": "code",
   "execution_count": null,
   "id": "e8897ab6",
   "metadata": {},
   "outputs": [],
   "source": []
  }
 ],
 "metadata": {
  "kernelspec": {
   "display_name": "Python 3 (ipykernel)",
   "language": "python",
   "name": "python3"
  },
  "language_info": {
   "codemirror_mode": {
    "name": "ipython",
    "version": 3
   },
   "file_extension": ".py",
   "mimetype": "text/x-python",
   "name": "python",
   "nbconvert_exporter": "python",
   "pygments_lexer": "ipython3",
   "version": "3.11.7"
  }
 },
 "nbformat": 4,
 "nbformat_minor": 5
}
