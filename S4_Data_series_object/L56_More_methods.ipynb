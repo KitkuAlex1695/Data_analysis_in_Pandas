{
 "cells": [
  {
   "cell_type": "code",
   "execution_count": 1,
   "id": "3baa4f4b",
   "metadata": {},
   "outputs": [],
   "source": [
    "import pandas as pd\n",
    "import numpy as np\n",
    "import matplotlib.pyplot as plt\n",
    "import math\n",
    "\n",
    "path = '../data/pokemon.csv'"
   ]
  },
  {
   "cell_type": "code",
   "execution_count": 2,
   "id": "3a0bc5c8",
   "metadata": {},
   "outputs": [],
   "source": [
    "pok = pd.read_csv(path, usecols=['Name', 'Attack'], index_col='Name').squeeze()"
   ]
  },
  {
   "cell_type": "code",
   "execution_count": 4,
   "id": "aac2d7ac",
   "metadata": {},
   "outputs": [
    {
     "data": {
      "text/plain": [
       "Name\n",
       "Bulbasaur                 49\n",
       "Ivysaur                   62\n",
       "Venusaur                  82\n",
       "VenusaurMega Venusaur    100\n",
       "Charmander                52\n",
       "Name: Attack, dtype: int64"
      ]
     },
     "execution_count": 4,
     "metadata": {},
     "output_type": "execute_result"
    }
   ],
   "source": [
    "pok.head()"
   ]
  },
  {
   "cell_type": "code",
   "execution_count": 5,
   "id": "e1154660",
   "metadata": {},
   "outputs": [
    {
     "data": {
      "text/plain": [
       "800"
      ]
     },
     "execution_count": 5,
     "metadata": {},
     "output_type": "execute_result"
    }
   ],
   "source": [
    "pok.count()"
   ]
  },
  {
   "cell_type": "code",
   "execution_count": 6,
   "id": "4bcc7ca0",
   "metadata": {},
   "outputs": [],
   "source": [
    "pokType = pd.read_csv(path, usecols=['Name', 'Type 2'], index_col='Name').squeeze()"
   ]
  },
  {
   "cell_type": "code",
   "execution_count": 7,
   "id": "73d63ce5",
   "metadata": {},
   "outputs": [
    {
     "data": {
      "text/plain": [
       "Name\n",
       "Bulbasaur                Poison\n",
       "Ivysaur                  Poison\n",
       "Venusaur                 Poison\n",
       "VenusaurMega Venusaur    Poison\n",
       "Charmander                  NaN\n",
       "Name: Type 2, dtype: object"
      ]
     },
     "execution_count": 7,
     "metadata": {},
     "output_type": "execute_result"
    }
   ],
   "source": [
    "pokType.head()"
   ]
  },
  {
   "cell_type": "code",
   "execution_count": 17,
   "id": "ddbffcd0",
   "metadata": {},
   "outputs": [
    {
     "data": {
      "text/plain": [
       "Type 2\n",
       "Flying      97\n",
       "Ground      35\n",
       "Poison      34\n",
       "Psychic     33\n",
       "Fighting    26\n",
       "Grass       25\n",
       "Fairy       23\n",
       "Steel       22\n",
       "Dark        20\n",
       "Dragon      18\n",
       "Water       14\n",
       "Ghost       14\n",
       "Ice         14\n",
       "Rock        14\n",
       "Fire        12\n",
       "Electric     6\n",
       "Normal       4\n",
       "Bug          3\n",
       "Name: count, dtype: int64"
      ]
     },
     "execution_count": 17,
     "metadata": {},
     "output_type": "execute_result"
    }
   ],
   "source": [
    "pokType.value_counts() \n",
    "\n",
    "# Groups by by values (similar as SQL GROUP BY),\n",
    "# but also returns no of row-counts for every value\n",
    "# Also sorts descending by default"
   ]
  },
  {
   "cell_type": "code",
   "execution_count": 12,
   "id": "1c5ce3f0",
   "metadata": {},
   "outputs": [
    {
     "data": {
      "text/plain": [
       "Type 2\n",
       "Flying      97\n",
       "Ground      35\n",
       "Poison      34\n",
       "Psychic     33\n",
       "Fighting    26\n",
       "Name: count, dtype: int64"
      ]
     },
     "execution_count": 12,
     "metadata": {},
     "output_type": "execute_result"
    }
   ],
   "source": [
    "pokType.value_counts().head()"
   ]
  },
  {
   "cell_type": "code",
   "execution_count": 19,
   "id": "6d2d8371",
   "metadata": {},
   "outputs": [
    {
     "data": {
      "text/plain": [
       "5"
      ]
     },
     "execution_count": 19,
     "metadata": {},
     "output_type": "execute_result"
    }
   ],
   "source": [
    "pok.min()"
   ]
  },
  {
   "cell_type": "code",
   "execution_count": 21,
   "id": "2616816c",
   "metadata": {},
   "outputs": [
    {
     "data": {
      "text/plain": [
       "190"
      ]
     },
     "execution_count": 21,
     "metadata": {},
     "output_type": "execute_result"
    }
   ],
   "source": [
    "pok.max()"
   ]
  },
  {
   "cell_type": "code",
   "execution_count": 24,
   "id": "72f8d279",
   "metadata": {},
   "outputs": [
    {
     "data": {
      "text/plain": [
       "'MewtwoMega Mewtwo X'"
      ]
     },
     "execution_count": 24,
     "metadata": {},
     "output_type": "execute_result"
    }
   ],
   "source": [
    "pok.idxmax()"
   ]
  },
  {
   "cell_type": "code",
   "execution_count": 29,
   "id": "ee722098",
   "metadata": {},
   "outputs": [
    {
     "data": {
      "text/plain": [
       "190"
      ]
     },
     "execution_count": 29,
     "metadata": {},
     "output_type": "execute_result"
    }
   ],
   "source": [
    "pok.loc[pok.idxmax()]"
   ]
  },
  {
   "cell_type": "code",
   "execution_count": 26,
   "id": "f70fe2cc",
   "metadata": {},
   "outputs": [
    {
     "data": {
      "text/plain": [
       "'Chansey'"
      ]
     },
     "execution_count": 26,
     "metadata": {},
     "output_type": "execute_result"
    }
   ],
   "source": [
    "pok.idxmin()"
   ]
  },
  {
   "cell_type": "code",
   "execution_count": 30,
   "id": "4c7186e3",
   "metadata": {},
   "outputs": [
    {
     "data": {
      "text/plain": [
       "5"
      ]
     },
     "execution_count": 30,
     "metadata": {},
     "output_type": "execute_result"
    }
   ],
   "source": [
    "pok.loc[pok.idxmin()]"
   ]
  },
  {
   "cell_type": "code",
   "execution_count": 31,
   "id": "49a3b9a0",
   "metadata": {},
   "outputs": [
    {
     "data": {
      "text/plain": [
       "79.00125"
      ]
     },
     "execution_count": 31,
     "metadata": {},
     "output_type": "execute_result"
    }
   ],
   "source": [
    "pok.mean()"
   ]
  },
  {
   "cell_type": "code",
   "execution_count": 34,
   "id": "93433802",
   "metadata": {},
   "outputs": [
    {
     "data": {
      "text/plain": [
       "79.00125"
      ]
     },
     "execution_count": 34,
     "metadata": {},
     "output_type": "execute_result"
    }
   ],
   "source": [
    "pok.sum() / pok.count()"
   ]
  },
  {
   "cell_type": "code",
   "execution_count": 32,
   "id": "5b42f3db",
   "metadata": {},
   "outputs": [
    {
     "data": {
      "text/plain": [
       "75.0"
      ]
     },
     "execution_count": 32,
     "metadata": {},
     "output_type": "execute_result"
    }
   ],
   "source": [
    "pok.median()"
   ]
  },
  {
   "cell_type": "code",
   "execution_count": 33,
   "id": "58c149fd",
   "metadata": {},
   "outputs": [
    {
     "data": {
      "text/plain": [
       "32.45736586949843"
      ]
     },
     "execution_count": 33,
     "metadata": {},
     "output_type": "execute_result"
    }
   ],
   "source": [
    "pok.std()"
   ]
  },
  {
   "cell_type": "code",
   "execution_count": null,
   "id": "1944be45",
   "metadata": {},
   "outputs": [],
   "source": []
  }
 ],
 "metadata": {
  "kernelspec": {
   "display_name": "Python 3 (ipykernel)",
   "language": "python",
   "name": "python3"
  },
  "language_info": {
   "codemirror_mode": {
    "name": "ipython",
    "version": 3
   },
   "file_extension": ".py",
   "mimetype": "text/x-python",
   "name": "python",
   "nbconvert_exporter": "python",
   "pygments_lexer": "ipython3",
   "version": "3.11.7"
  }
 },
 "nbformat": 4,
 "nbformat_minor": 5
}
