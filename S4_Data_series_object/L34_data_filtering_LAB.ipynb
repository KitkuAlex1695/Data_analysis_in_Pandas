{
 "cells": [
  {
   "cell_type": "code",
   "execution_count": 1,
   "id": "f8fea048",
   "metadata": {},
   "outputs": [],
   "source": [
    "import pandas as pd\n",
    "import numpy as np\n",
    "import matplotlib.pyplot as plt\n",
    "import math"
   ]
  },
  {
   "cell_type": "code",
   "execution_count": 3,
   "id": "b00b9a7f",
   "metadata": {},
   "outputs": [
    {
     "data": {
      "text/plain": [
       "6          14\n",
       "7-14      334\n",
       "15-17     312\n",
       "18-24    5823\n",
       "25-39    9491\n",
       "40-59    7486\n",
       "60+      4343\n",
       "dtype: int64"
      ]
     },
     "execution_count": 3,
     "metadata": {},
     "output_type": "execute_result"
    }
   ],
   "source": [
    "incidentAge = ['6', '7-14', '15-17', '18-24', '25-39', '40-59', '60+']\n",
    "incidentCount = [14, 334, 312, 5823, 9491, 7486, 4343]\n",
    "incidents = pd.Series(incidentCount, incidentAge)\n",
    "incidents"
   ]
  },
  {
   "cell_type": "code",
   "execution_count": 4,
   "id": "64d46fd8",
   "metadata": {},
   "outputs": [
    {
     "data": {
      "text/plain": [
       "6           NaN\n",
       "7-14        NaN\n",
       "15-17       NaN\n",
       "18-24    5823.0\n",
       "25-39    9491.0\n",
       "40-59    7486.0\n",
       "60+      4343.0\n",
       "dtype: float64"
      ]
     },
     "execution_count": 4,
     "metadata": {},
     "output_type": "execute_result"
    }
   ],
   "source": [
    "incidents.where(incidents > 1000)"
   ]
  },
  {
   "cell_type": "code",
   "execution_count": 7,
   "id": "c5359e04",
   "metadata": {},
   "outputs": [
    {
     "data": {
      "text/plain": [
       "18-24    5823.0\n",
       "25-39    9491.0\n",
       "40-59    7486.0\n",
       "60+      4343.0\n",
       "dtype: float64"
      ]
     },
     "execution_count": 7,
     "metadata": {},
     "output_type": "execute_result"
    }
   ],
   "source": [
    "incidents.where(incidents > 1000).dropna()"
   ]
  },
  {
   "cell_type": "code",
   "execution_count": 11,
   "id": "43357300",
   "metadata": {},
   "outputs": [
    {
     "data": {
      "text/plain": [
       "18-24    5823.0\n",
       "25-39    9491.0\n",
       "40-59    7486.0\n",
       "60+      4343.0\n",
       "dtype: float64"
      ]
     },
     "execution_count": 11,
     "metadata": {},
     "output_type": "execute_result"
    }
   ],
   "source": [
    "incidents1000 = incidents.where(incidents > 1000).dropna()\n",
    "incidents1000"
   ]
  },
  {
   "cell_type": "code",
   "execution_count": 12,
   "id": "0d3580ab",
   "metadata": {},
   "outputs": [
    {
     "data": {
      "text/plain": [
       "6          14\n",
       "7-14      334\n",
       "15-17     312\n",
       "18-24    5823\n",
       "25-39    9491\n",
       "40-59    7486\n",
       "60+      4343\n",
       "dtype: int64"
      ]
     },
     "execution_count": 12,
     "metadata": {},
     "output_type": "execute_result"
    }
   ],
   "source": [
    "incidents"
   ]
  },
  {
   "cell_type": "code",
   "execution_count": 13,
   "id": "93e6081d",
   "metadata": {},
   "outputs": [
    {
     "data": {
      "text/plain": [
       "18-24    5823\n",
       "25-39    9491\n",
       "40-59    7486\n",
       "dtype: int64"
      ]
     },
     "execution_count": 13,
     "metadata": {},
     "output_type": "execute_result"
    }
   ],
   "source": [
    "incidents.filter(['18-24', '25-39', '40-59'])"
   ]
  },
  {
   "cell_type": "code",
   "execution_count": 18,
   "id": "afc45ddd",
   "metadata": {},
   "outputs": [],
   "source": [
    "incidents.where(incidents <= 1000, inplace=True)\n",
    "incidents.dropna(inplace=True)"
   ]
  },
  {
   "cell_type": "code",
   "execution_count": 19,
   "id": "541b89d8",
   "metadata": {},
   "outputs": [
    {
     "data": {
      "text/plain": [
       "6         14.0\n",
       "7-14     334.0\n",
       "15-17    312.0\n",
       "dtype: float64"
      ]
     },
     "execution_count": 19,
     "metadata": {},
     "output_type": "execute_result"
    }
   ],
   "source": [
    "incidents"
   ]
  },
  {
   "cell_type": "code",
   "execution_count": null,
   "id": "8ca3a18d",
   "metadata": {},
   "outputs": [],
   "source": []
  }
 ],
 "metadata": {
  "kernelspec": {
   "display_name": "Python 3 (ipykernel)",
   "language": "python",
   "name": "python3"
  },
  "language_info": {
   "codemirror_mode": {
    "name": "ipython",
    "version": 3
   },
   "file_extension": ".py",
   "mimetype": "text/x-python",
   "name": "python",
   "nbconvert_exporter": "python",
   "pygments_lexer": "ipython3",
   "version": "3.11.7"
  }
 },
 "nbformat": 4,
 "nbformat_minor": 5
}
