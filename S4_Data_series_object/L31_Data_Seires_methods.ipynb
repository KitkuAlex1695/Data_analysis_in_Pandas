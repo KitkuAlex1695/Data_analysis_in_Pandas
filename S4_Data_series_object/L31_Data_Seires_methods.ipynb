{
 "cells": [
  {
   "cell_type": "code",
   "execution_count": 1,
   "id": "e1bacb41",
   "metadata": {},
   "outputs": [],
   "source": [
    "import pandas as pd\n",
    "import numpy as np\n",
    "import matplotlib.pyplot as plt\n",
    "import math"
   ]
  },
  {
   "cell_type": "code",
   "execution_count": 3,
   "id": "532f5e40",
   "metadata": {},
   "outputs": [
    {
     "data": {
      "text/plain": [
       "0     1\n",
       "1     2\n",
       "2     4\n",
       "3    67\n",
       "4    99\n",
       "dtype: int64"
      ]
     },
     "execution_count": 3,
     "metadata": {},
     "output_type": "execute_result"
    }
   ],
   "source": [
    "monotonicList = (1, 2, 4, 67, 99)\n",
    "monotonicSeries = pd.Series(monotonicList)\n",
    "monotonicSeries"
   ]
  },
  {
   "cell_type": "code",
   "execution_count": 4,
   "id": "0a876ecf",
   "metadata": {},
   "outputs": [
    {
     "data": {
      "text/plain": [
       "173"
      ]
     },
     "execution_count": 4,
     "metadata": {},
     "output_type": "execute_result"
    }
   ],
   "source": [
    "monotonicSeries.sum()"
   ]
  },
  {
   "cell_type": "code",
   "execution_count": 5,
   "id": "a1bacccc",
   "metadata": {},
   "outputs": [
    {
     "data": {
      "text/plain": [
       "1"
      ]
     },
     "execution_count": 5,
     "metadata": {},
     "output_type": "execute_result"
    }
   ],
   "source": [
    "monotonicSeries.min()"
   ]
  },
  {
   "cell_type": "code",
   "execution_count": 6,
   "id": "c92b149a",
   "metadata": {},
   "outputs": [
    {
     "data": {
      "text/plain": [
       "99"
      ]
     },
     "execution_count": 6,
     "metadata": {},
     "output_type": "execute_result"
    }
   ],
   "source": [
    "monotonicSeries.max()"
   ]
  },
  {
   "cell_type": "code",
   "execution_count": 7,
   "id": "9a0acf20",
   "metadata": {},
   "outputs": [
    {
     "data": {
      "text/plain": [
       "34.6"
      ]
     },
     "execution_count": 7,
     "metadata": {},
     "output_type": "execute_result"
    }
   ],
   "source": [
    "monotonicSeries.mean()"
   ]
  },
  {
   "cell_type": "code",
   "execution_count": 8,
   "id": "ebde48b1",
   "metadata": {},
   "outputs": [
    {
     "data": {
      "text/plain": [
       "5"
      ]
     },
     "execution_count": 8,
     "metadata": {},
     "output_type": "execute_result"
    }
   ],
   "source": [
    "monotonicSeries.count()"
   ]
  },
  {
   "cell_type": "code",
   "execution_count": 10,
   "id": "511516fa",
   "metadata": {},
   "outputs": [
    {
     "data": {
      "text/plain": [
       "True"
      ]
     },
     "execution_count": 10,
     "metadata": {},
     "output_type": "execute_result"
    }
   ],
   "source": [
    "monotonicSeries.size == monotonicSeries.count()"
   ]
  },
  {
   "cell_type": "code",
   "execution_count": 11,
   "id": "392d23a3",
   "metadata": {},
   "outputs": [
    {
     "data": {
      "text/plain": [
       "53064"
      ]
     },
     "execution_count": 11,
     "metadata": {},
     "output_type": "execute_result"
    }
   ],
   "source": [
    "monotonicSeries.product()"
   ]
  },
  {
   "cell_type": "code",
   "execution_count": 16,
   "id": "9f921b8b",
   "metadata": {},
   "outputs": [
    {
     "name": "stdout",
     "output_type": "stream",
     "text": [
      "RangeIndex(start=0, stop=5, step=1)\n",
      "RangeIndex(start=0, stop=5, step=1)\n"
     ]
    },
    {
     "data": {
      "text/plain": [
       "array([ True,  True,  True,  True,  True])"
      ]
     },
     "execution_count": 16,
     "metadata": {},
     "output_type": "execute_result"
    }
   ],
   "source": [
    "print(monotonicSeries.index)\n",
    "print(monotonicSeries.keys())\n",
    "monotonicSeries.index == monotonicSeries.keys()"
   ]
  },
  {
   "cell_type": "code",
   "execution_count": 21,
   "id": "892e3dba",
   "metadata": {},
   "outputs": [
    {
     "data": {
      "text/plain": [
       "array([ 1,  2,  4, 67, 99], dtype=int64)"
      ]
     },
     "execution_count": 21,
     "metadata": {},
     "output_type": "execute_result"
    }
   ],
   "source": [
    "# monotonicSeries.get_values() method has been deleted\n",
    "monotonicSeries.values"
   ]
  },
  {
   "cell_type": "code",
   "execution_count": 23,
   "id": "e9534a99",
   "metadata": {},
   "outputs": [
    {
     "data": {
      "text/plain": [
       "[1, 2, 4, 67, 99]"
      ]
     },
     "execution_count": 23,
     "metadata": {},
     "output_type": "execute_result"
    }
   ],
   "source": [
    "monotonicSeries.tolist()"
   ]
  },
  {
   "cell_type": "code",
   "execution_count": 24,
   "id": "682c94c1",
   "metadata": {},
   "outputs": [
    {
     "data": {
      "text/plain": [
       "0     11\n",
       "1     12\n",
       "2     14\n",
       "3     77\n",
       "4    109\n",
       "dtype: int64"
      ]
     },
     "execution_count": 24,
     "metadata": {},
     "output_type": "execute_result"
    }
   ],
   "source": [
    "monotonicSeries.add(10) # creates a copy and adds 10 to every item"
   ]
  },
  {
   "cell_type": "code",
   "execution_count": 26,
   "id": "f79b8645",
   "metadata": {},
   "outputs": [
    {
     "data": {
      "text/plain": [
       "0     1\n",
       "1     2\n",
       "2     4\n",
       "3    67\n",
       "4    99\n",
       "dtype: int64"
      ]
     },
     "execution_count": 26,
     "metadata": {},
     "output_type": "execute_result"
    }
   ],
   "source": [
    "monotonicSeries # still same series"
   ]
  },
  {
   "cell_type": "code",
   "execution_count": 28,
   "id": "2f361d09",
   "metadata": {},
   "outputs": [
    {
     "data": {
      "text/plain": [
       "0     11\n",
       "1     12\n",
       "2     14\n",
       "3     77\n",
       "4    109\n",
       "dtype: int64"
      ]
     },
     "execution_count": 28,
     "metadata": {},
     "output_type": "execute_result"
    }
   ],
   "source": [
    "newSeries = monotonicSeries.add(10)\n",
    "newSeries"
   ]
  },
  {
   "cell_type": "markdown",
   "id": "3d298505",
   "metadata": {},
   "source": [
    "Most methods in pandas will not change original series, but create a copy"
   ]
  },
  {
   "cell_type": "code",
   "execution_count": 30,
   "id": "ca919094",
   "metadata": {},
   "outputs": [],
   "source": [
    "currencies = ['USD', 'EUR', 'PLN', 'EUR', 'EUR']\n",
    "countries = ['USA', 'Spain', 'Poland', 'Portugal', 'Italy']"
   ]
  },
  {
   "cell_type": "markdown",
   "id": "d7c9b9e5",
   "metadata": {},
   "source": [
    "Can make a series with own indexes with using just 2 lists like below:"
   ]
  },
  {
   "cell_type": "code",
   "execution_count": 37,
   "id": "cb526f03",
   "metadata": {},
   "outputs": [
    {
     "data": {
      "text/plain": [
       "USD         USA\n",
       "EUR       Spain\n",
       "PLN      Poland\n",
       "EUR    Portugal\n",
       "EUR       Italy\n",
       "dtype: object"
      ]
     },
     "execution_count": 37,
     "metadata": {},
     "output_type": "execute_result"
    }
   ],
   "source": [
    "curSeries = pd.Series(countries, currencies) #first values, than keys!!!\n",
    "curSeries"
   ]
  },
  {
   "cell_type": "code",
   "execution_count": 38,
   "id": "7d7a3343",
   "metadata": {},
   "outputs": [
    {
     "data": {
      "text/plain": [
       "USA         USD\n",
       "Spain       EUR\n",
       "Poland      PLN\n",
       "Portugal    EUR\n",
       "Italy       EUR\n",
       "dtype: object"
      ]
     },
     "execution_count": 38,
     "metadata": {},
     "output_type": "execute_result"
    }
   ],
   "source": [
    "countrySeries = pd.Series(currencies, countries)\n",
    "countrySeries"
   ]
  },
  {
   "cell_type": "code",
   "execution_count": 43,
   "id": "811017cd",
   "metadata": {},
   "outputs": [
    {
     "data": {
      "text/plain": [
       "USD         USA\n",
       "EUR       Spain\n",
       "PLN      Poland\n",
       "EUR    Portugal\n",
       "EUR       Italy\n",
       "dtype: object"
      ]
     },
     "execution_count": 43,
     "metadata": {},
     "output_type": "execute_result"
    }
   ],
   "source": [
    "curSeries = pd.Series(index = currencies, data = countries) # or use keyword arguments\n",
    "curSeries    # shift + tab opens docstring for function"
   ]
  },
  {
   "cell_type": "markdown",
   "id": "72fda3cd",
   "metadata": {},
   "source": [
    "Indexes can be not-unique, unlike in dictionary"
   ]
  },
  {
   "cell_type": "code",
   "execution_count": null,
   "id": "8914fe5e",
   "metadata": {},
   "outputs": [],
   "source": [
    "print()"
   ]
  }
 ],
 "metadata": {
  "kernelspec": {
   "display_name": "Python 3 (ipykernel)",
   "language": "python",
   "name": "python3"
  },
  "language_info": {
   "codemirror_mode": {
    "name": "ipython",
    "version": 3
   },
   "file_extension": ".py",
   "mimetype": "text/x-python",
   "name": "python",
   "nbconvert_exporter": "python",
   "pygments_lexer": "ipython3",
   "version": "3.11.7"
  }
 },
 "nbformat": 4,
 "nbformat_minor": 5
}
