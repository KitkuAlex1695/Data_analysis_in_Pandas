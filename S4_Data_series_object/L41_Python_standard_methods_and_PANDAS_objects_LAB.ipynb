{
 "cells": [
  {
   "cell_type": "code",
   "execution_count": 1,
   "id": "785cb696",
   "metadata": {},
   "outputs": [],
   "source": [
    "import pandas as pd\n",
    "import numpy as np\n",
    "import matplotlib.pyplot as plt\n",
    "import math"
   ]
  },
  {
   "cell_type": "code",
   "execution_count": 2,
   "id": "3dcb9915",
   "metadata": {},
   "outputs": [
    {
     "ename": "NameError",
     "evalue": "name 'bsalary' is not defined",
     "output_type": "error",
     "traceback": [
      "\u001b[1;31m---------------------------------------------------------------------------\u001b[0m",
      "\u001b[1;31mNameError\u001b[0m                                 Traceback (most recent call last)",
      "Cell \u001b[1;32mIn[2], line 2\u001b[0m\n\u001b[0;32m      1\u001b[0m salary \u001b[38;5;241m=\u001b[39m pd\u001b[38;5;241m.\u001b[39mread_csv(\u001b[38;5;124m'\u001b[39m\u001b[38;5;124m../data/StackOverflowDeveloperSurvey.csv\u001b[39m\u001b[38;5;124m'\u001b[39m, usecols\u001b[38;5;241m=\u001b[39m[\u001b[38;5;124m'\u001b[39m\u001b[38;5;124mSalary\u001b[39m\u001b[38;5;124m'\u001b[39m])\u001b[38;5;241m.\u001b[39msqueeze()\u001b[38;5;241m.\u001b[39mdropna()\n\u001b[1;32m----> 2\u001b[0m bsalary\u001b[38;5;241m.\u001b[39mhead()\n",
      "\u001b[1;31mNameError\u001b[0m: name 'bsalary' is not defined"
     ]
    }
   ],
   "source": [
    "salary = pd.read_csv('../data/StackOverflowDeveloperSurvey.csv', usecols=['Salary']).squeeze().dropna()\n",
    "bsalary.head()"
   ]
  },
  {
   "cell_type": "markdown",
   "id": "799aafb8",
   "metadata": {},
   "source": [
    "# Q1\n",
    "How many pepole responded about their salary?"
   ]
  },
  {
   "cell_type": "code",
   "execution_count": null,
   "id": "63ada5c1",
   "metadata": {},
   "outputs": [],
   "source": [
    "len(salary)\n",
    "\n",
    "# A1"
   ]
  },
  {
   "cell_type": "markdown",
   "id": "cc5c97f1",
   "metadata": {},
   "source": [
    "# Q2\n",
    "What is the lowest and the highest salary?"
   ]
  },
  {
   "cell_type": "code",
   "execution_count": null,
   "id": "00287e0d",
   "metadata": {},
   "outputs": [],
   "source": [
    "print(\n",
    "    salary.max(),\n",
    "    salary.min(),\n",
    "    sep='\\n'\n",
    ")\n",
    "\n",
    "# A2"
   ]
  },
  {
   "cell_type": "markdown",
   "id": "99a3cbfd",
   "metadata": {},
   "source": [
    "# Q3\n",
    "make list from 5 first elements from salary"
   ]
  },
  {
   "cell_type": "code",
   "execution_count": null,
   "id": "d3e7cf74",
   "metadata": {},
   "outputs": [],
   "source": [
    "list(salary.head())\n",
    "\n",
    "#A3"
   ]
  },
  {
   "cell_type": "markdown",
   "id": "af8e4186",
   "metadata": {},
   "source": [
    "# Q4\n",
    "make dictionary from 5 first elements from salary"
   ]
  },
  {
   "cell_type": "code",
   "execution_count": null,
   "id": "952bb8e6",
   "metadata": {},
   "outputs": [],
   "source": [
    "dict(salary.head())\n",
    "\n",
    "#A4"
   ]
  },
  {
   "cell_type": "markdown",
   "id": "854d93c9",
   "metadata": {},
   "source": [
    "# Q5\n",
    "sort desc salary and save as listSalarySorted"
   ]
  },
  {
   "cell_type": "code",
   "execution_count": 10,
   "id": "8ce76274",
   "metadata": {},
   "outputs": [
    {
     "data": {
      "text/plain": [
       "[197000.0, 195000.0, 195000.0, 195000.0, 195000.0]"
      ]
     },
     "execution_count": 10,
     "metadata": {},
     "output_type": "execute_result"
    }
   ],
   "source": [
    "listSalarySorted = sorted(salary, reverse=True)\n",
    "listSalarySorted[0:5]"
   ]
  },
  {
   "cell_type": "code",
   "execution_count": 11,
   "id": "49da12e4",
   "metadata": {},
   "outputs": [],
   "source": [
    "salary.name = 'Salary of a person'"
   ]
  },
  {
   "cell_type": "code",
   "execution_count": 12,
   "id": "b1c2b79b",
   "metadata": {},
   "outputs": [
    {
     "data": {
      "text/plain": [
       "2     113750.0\n",
       "14    100000.0\n",
       "17    130000.0\n",
       "18     82500.0\n",
       "22    100764.0\n",
       "Name: Salary of a person, dtype: float64"
      ]
     },
     "execution_count": 12,
     "metadata": {},
     "output_type": "execute_result"
    }
   ],
   "source": [
    "salary.head()"
   ]
  },
  {
   "cell_type": "code",
   "execution_count": null,
   "id": "3d2d4ed2",
   "metadata": {},
   "outputs": [],
   "source": []
  }
 ],
 "metadata": {
  "kernelspec": {
   "display_name": "Python 3 (ipykernel)",
   "language": "python",
   "name": "python3"
  },
  "language_info": {
   "codemirror_mode": {
    "name": "ipython",
    "version": 3
   },
   "file_extension": ".py",
   "mimetype": "text/x-python",
   "name": "python",
   "nbconvert_exporter": "python",
   "pygments_lexer": "ipython3",
   "version": "3.11.7"
  }
 },
 "nbformat": 4,
 "nbformat_minor": 5
}
