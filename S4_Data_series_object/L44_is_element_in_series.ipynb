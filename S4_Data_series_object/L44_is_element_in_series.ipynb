{
 "cells": [
  {
   "cell_type": "code",
   "execution_count": 5,
   "id": "57b8d7de",
   "metadata": {},
   "outputs": [],
   "source": [
    "import pandas as pd\n",
    "import numpy as np\n",
    "import matplotlib.pyplot as plt\n",
    "import math\n",
    "\n",
    "pok = pd.read_csv('../data/pokemon.csv', usecols=['Name']).squeeze()"
   ]
  },
  {
   "cell_type": "code",
   "execution_count": 2,
   "id": "0b5c1d29",
   "metadata": {},
   "outputs": [],
   "source": [
    "countries = ['EN', 'FR', 'PL', 'IT']"
   ]
  },
  {
   "cell_type": "code",
   "execution_count": 3,
   "id": "bebe8db5",
   "metadata": {},
   "outputs": [
    {
     "data": {
      "text/plain": [
       "True"
      ]
     },
     "execution_count": 3,
     "metadata": {},
     "output_type": "execute_result"
    }
   ],
   "source": [
    "'PL' in countries"
   ]
  },
  {
   "cell_type": "code",
   "execution_count": 4,
   "id": "56d0941e",
   "metadata": {},
   "outputs": [
    {
     "data": {
      "text/plain": [
       "False"
      ]
     },
     "execution_count": 4,
     "metadata": {},
     "output_type": "execute_result"
    }
   ],
   "source": [
    "'ES' in countries"
   ]
  },
  {
   "cell_type": "code",
   "execution_count": 10,
   "id": "7a2b3e29",
   "metadata": {},
   "outputs": [
    {
     "data": {
      "text/plain": [
       "0                  Bulbasaur\n",
       "1                    Ivysaur\n",
       "2                   Venusaur\n",
       "3      VenusaurMega Venusaur\n",
       "4                 Charmander\n",
       "               ...          \n",
       "795                  Diancie\n",
       "796      DiancieMega Diancie\n",
       "797      HoopaHoopa Confined\n",
       "798       HoopaHoopa Unbound\n",
       "799                Volcanion\n",
       "Name: Name, Length: 800, dtype: object"
      ]
     },
     "execution_count": 10,
     "metadata": {},
     "output_type": "execute_result"
    }
   ],
   "source": [
    "pok"
   ]
  },
  {
   "cell_type": "markdown",
   "id": "ebc78f98",
   "metadata": {},
   "source": [
    "# in used on Series objects searches in inexes:"
   ]
  },
  {
   "cell_type": "code",
   "execution_count": 11,
   "id": "af456d2c",
   "metadata": {},
   "outputs": [
    {
     "data": {
      "text/plain": [
       "False"
      ]
     },
     "execution_count": 11,
     "metadata": {},
     "output_type": "execute_result"
    }
   ],
   "source": [
    "'Venusaur' in pok"
   ]
  },
  {
   "cell_type": "code",
   "execution_count": 12,
   "id": "23d5f4c8",
   "metadata": {},
   "outputs": [
    {
     "data": {
      "text/plain": [
       "True"
      ]
     },
     "execution_count": 12,
     "metadata": {},
     "output_type": "execute_result"
    }
   ],
   "source": [
    "3 in pok"
   ]
  },
  {
   "cell_type": "code",
   "execution_count": 13,
   "id": "2c7e97c1",
   "metadata": {},
   "outputs": [
    {
     "data": {
      "text/plain": [
       "False"
      ]
     },
     "execution_count": 13,
     "metadata": {},
     "output_type": "execute_result"
    }
   ],
   "source": [
    "900 in pok"
   ]
  },
  {
   "cell_type": "code",
   "execution_count": 17,
   "id": "7c2372ff",
   "metadata": {},
   "outputs": [
    {
     "data": {
      "text/plain": [
       "True"
      ]
     },
     "execution_count": 17,
     "metadata": {},
     "output_type": "execute_result"
    }
   ],
   "source": [
    "3 in pok.index"
   ]
  },
  {
   "cell_type": "code",
   "execution_count": 19,
   "id": "719fbcf2",
   "metadata": {},
   "outputs": [
    {
     "data": {
      "text/plain": [
       "False"
      ]
     },
     "execution_count": 19,
     "metadata": {},
     "output_type": "execute_result"
    }
   ],
   "source": [
    "900 in pok.index"
   ]
  },
  {
   "cell_type": "code",
   "execution_count": 20,
   "id": "160dae18",
   "metadata": {},
   "outputs": [
    {
     "data": {
      "text/plain": [
       "True"
      ]
     },
     "execution_count": 20,
     "metadata": {},
     "output_type": "execute_result"
    }
   ],
   "source": [
    "'Venusaur' in pok.values"
   ]
  },
  {
   "cell_type": "code",
   "execution_count": 21,
   "id": "e2f9ee0b",
   "metadata": {},
   "outputs": [
    {
     "data": {
      "text/plain": [
       "False"
      ]
     },
     "execution_count": 21,
     "metadata": {},
     "output_type": "execute_result"
    }
   ],
   "source": [
    "'Yannush' in pok.values"
   ]
  },
  {
   "cell_type": "code",
   "execution_count": null,
   "id": "91a9e9b3",
   "metadata": {},
   "outputs": [],
   "source": []
  }
 ],
 "metadata": {
  "kernelspec": {
   "display_name": "Python 3 (ipykernel)",
   "language": "python",
   "name": "python3"
  },
  "language_info": {
   "codemirror_mode": {
    "name": "ipython",
    "version": 3
   },
   "file_extension": ".py",
   "mimetype": "text/x-python",
   "name": "python",
   "nbconvert_exporter": "python",
   "pygments_lexer": "ipython3",
   "version": "3.11.7"
  }
 },
 "nbformat": 4,
 "nbformat_minor": 5
}
