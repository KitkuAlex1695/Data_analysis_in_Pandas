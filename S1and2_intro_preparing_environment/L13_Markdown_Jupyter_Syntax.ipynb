{
 "cells": [
  {
   "cell_type": "markdown",
   "id": "8d2e989a",
   "metadata": {},
   "source": [
    "# Dokumentacja do języka markdown:\n",
    "\n",
    "[link](https://jupyter-notebook.readthedocs.io/en/stable/)\n",
    "\n",
    "# Important Modules in Data Analysis with Python\n",
    "## Pandas\n",
    "ranom text *italic* **Bold** _italic2_ __bold2__\n",
    "\n",
    "[odnośnik](https://pandas.pydata.org/)\n",
    "\n",
    "![Logo.Pandas](https://images.opencollective.com/pandas/6e5c060/logo/256.png?height=256)\n",
    "\n",
    "## Numpy\n",
    "tekst\n",
    "- pkt 1\n",
    "- pkt 2\n",
    "* pkt3\n",
    "1. asd\n",
    "2. asd\n",
    "adsss\n",
    "\n",
    "    for i in range(10):\n",
    "        print(i)\n",
    "        \n",
    "2\\*2\\*2\n"
   ]
  },
  {
   "cell_type": "markdown",
   "id": "d6d3170e",
   "metadata": {},
   "source": [
    "$$e^x=\\sum_{i=0}^\\infty \\frac{1}{i!}x^i$$"
   ]
  },
  {
   "cell_type": "markdown",
   "id": "9c7aa855",
   "metadata": {},
   "source": [
    "open the block\n",
    "\n",
    "``` github flavored markdown\n",
    "```"
   ]
  }
 ],
 "metadata": {
  "kernelspec": {
   "display_name": "Python 3 (ipykernel)",
   "language": "python",
   "name": "python3"
  },
  "language_info": {
   "codemirror_mode": {
    "name": "ipython",
    "version": 3
   },
   "file_extension": ".py",
   "mimetype": "text/x-python",
   "name": "python",
   "nbconvert_exporter": "python",
   "pygments_lexer": "ipython3",
   "version": "3.11.7"
  }
 },
 "nbformat": 4,
 "nbformat_minor": 5
}
